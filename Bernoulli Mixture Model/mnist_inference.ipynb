{
 "cells": [
  {
   "cell_type": "code",
   "execution_count": 1,
   "id": "f2fc7b1a",
   "metadata": {},
   "outputs": [],
   "source": [
    "import numpy as np \n",
    "import tensorflow as tf \n",
    "from scipy.special import logsumexp \n",
    "import matplotlib.pyplot as plt \n",
    "\n",
    "from typing import List\n",
    "from tqdm import tqdm \n",
    "\n",
    "from util import image_transform\n",
    "\n",
    "%matplotlib inline "
   ]
  },
  {
   "cell_type": "code",
   "execution_count": 2,
   "id": "3aea6a6f",
   "metadata": {},
   "outputs": [
    {
     "name": "stdout",
     "output_type": "stream",
     "text": [
      "(60000, 28, 28)\n",
      "(60000,)\n",
      "(10000, 28, 28)\n",
      "(10000,)\n"
     ]
    }
   ],
   "source": [
    "(X_train, y_train), (X_test, y_test) = tf.keras.datasets.mnist.load_data()\n",
    "\n",
    "print(X_train.shape)\n",
    "print(y_train.shape)\n",
    "print(X_test.shape)\n",
    "print(y_test.shape)"
   ]
  },
  {
   "cell_type": "code",
   "execution_count": 3,
   "id": "57ff5d96",
   "metadata": {},
   "outputs": [],
   "source": [
    "# biến đổi ảnh về nhị phân \n",
    "binary_X_train = image_transform(X_train)\n",
    "binary_X_test = image_transform(X_test)\n",
    "\n",
    "# tách các điểm dữ liệu thuộc các lớp khác nhau ra \n",
    "def label_classify(data, labels, cls): \n",
    "    return data[labels == cls]"
   ]
  },
  {
   "cell_type": "code",
   "execution_count": 4,
   "id": "73c594dc",
   "metadata": {},
   "outputs": [
    {
     "name": "stderr",
     "output_type": "stream",
     "text": [
      "C:\\Users\\admin\\AppData\\Local\\Temp\\ipykernel_24412\\489650966.py:5: VisibleDeprecationWarning: Creating an ndarray from ragged nested sequences (which is a list-or-tuple of lists-or-tuples-or ndarrays with different lengths or shapes) is deprecated. If you meant to do this, you must specify 'dtype=object' when creating the ndarray.\n",
      "  cls = np.array(cls)\n"
     ]
    },
    {
     "data": {
      "text/plain": [
       "(5923, 28, 28)"
      ]
     },
     "execution_count": 4,
     "metadata": {},
     "output_type": "execute_result"
    }
   ],
   "source": [
    "cls = []\n",
    "for i in range(10): \n",
    "    cls.append(label_classify(binary_X_train, y_train, i))\n",
    "    \n",
    "cls = np.array(cls)\n",
    "cls[0].shape"
   ]
  },
  {
   "cell_type": "code",
   "execution_count": 5,
   "id": "894b6cf0",
   "metadata": {},
   "outputs": [
    {
     "data": {
      "text/plain": [
       "<matplotlib.image.AxesImage at 0x1b706cb8f10>"
      ]
     },
     "execution_count": 5,
     "metadata": {},
     "output_type": "execute_result"
    },
    {
     "data": {
      "image/png": "[encoded data removed]",
      "text/plain": [
       "<Figure size 432x288 with 1 Axes>"
      ]
     },
     "metadata": {
      "needs_background": "light"
     },
     "output_type": "display_data"
    }
   ],
   "source": [
    "plt.imshow(binary_X_test[1], cmap=plt.cm.gray)"
   ]
  },
  {
   "cell_type": "code",
   "execution_count": 8,
   "id": "1c6af48a",
   "metadata": {},
   "outputs": [],
   "source": [
    "def show_images(imgs: List[float], num_rows, num_cols, scale=2, titles: List[int] = None):\n",
    "    \"\"\"Show (a list of) binary images.\n",
    "    \"\"\"\n",
    "\n",
    "    figsize = (num_cols * scale, num_rows * scale)\n",
    "    _, axes = plt.subplots(num_rows, num_cols, figsize=figsize)\n",
    "\n",
    "    axes = axes.flatten()\n",
    "    for i, (ax, img) in enumerate(zip(axes, imgs)): \n",
    "        ax.imshow(img, cmap=plt.cm.gray)\n",
    "        ax.axes.get_xaxis().set_visible(False)\n",
    "        ax.axes.get_yaxis().set_visible(False)\n",
    "        \n",
    "        if titles is not None: \n",
    "            ax.set_title(titles[i])\n",
    "            \n",
    "    plt.show()"
   ]
  },
  {
   "cell_type": "code",
   "execution_count": 9,
   "id": "0a4a31e3",
   "metadata": {},
   "outputs": [
    {
     "data": {
      "image/png": "[encoded data removed]",
      "text/plain": [
       "<Figure size 720x144 with 5 Axes>"
      ]
     },
     "metadata": {
      "needs_background": "light"
     },
     "output_type": "display_data"
    }
   ],
   "source": [
    "show_images(cls[0][:5], 1, 5)"
   ]
  },
  {
   "cell_type": "code",
   "execution_count": 134,
   "id": "f59576fb",
   "metadata": {},
   "outputs": [],
   "source": [
    "class BMM: \n",
    "    \"\"\"EM Algorithm for Bernoulli Mixture Model.\n",
    "    \"\"\"\n",
    "\n",
    "    def __init__(self, k: int, dim: int, alpha=None, init_mu=None, init_pi=None):\n",
    "        \"\"\"Define a Bernoulli mixture model with known number of clusters and dimensions.\n",
    "\n",
    "        Input: \n",
    "        - k: number of clusters \n",
    "        - dim: dimension \n",
    "        - init_theta: initial value for the probability of success \n",
    "        \"\"\"\n",
    "        \n",
    "        self.K = k \n",
    "        self.D = dim \n",
    "        self.alpha = alpha \n",
    "\n",
    "        if init_mu is None: \n",
    "            init_mu = np.random.uniform(.25, .75, (k, dim))\n",
    "            # init_mu /= np.sum(init_mu, axis=1, keepdims=True)\n",
    "        self.mu = init_mu\n",
    "\n",
    "        if init_pi is None: \n",
    "            init_pi = np.ones(k) / k        # uniform distribution of pi \n",
    "        self.pi = init_pi \n",
    "\n",
    "    def _init_em(self, X): \n",
    "        \"\"\"Initialization of EM algorithm for Bernoulli mixture model.\n",
    "\n",
    "        Input: \n",
    "        - X: data (batch_size, dim)\n",
    "        \"\"\"\n",
    "\n",
    "        self.X = X                                  # data matrix \n",
    "        self.N = X.shape[0]                         # the number of data points \n",
    "        self.Z = np.zeros((self.N, self.K))         # responsibility matrix \n",
    "\n",
    "    def _e_step(self): \n",
    "        \"\"\"E-step of EM algorithm. \n",
    "        \n",
    "        Evaluate the responsibilities (Z) using the current parameter values and log-sum-exp.\n",
    "        \"\"\"\n",
    "\n",
    "        for i in range(self.K): \n",
    "            self.Z[:, i] = np.log(self.pi[i]) + np.sum((self.X * np.log(self.mu[i]) + (1 - self.X) * np.log(1 - self.mu[i])), axis=1)\n",
    "        \n",
    "        self.Z -= logsumexp(self.Z, axis=1, keepdims=True)  \n",
    "        self.Z = np.exp(self.Z)\n",
    "        \n",
    "    def _m_step(self): \n",
    "        \"\"\"M-step of EM algorithm. \n",
    "        \n",
    "        Re-estimate the parameters using the current responsibilities Z.\n",
    "        \"\"\"\n",
    "\n",
    "        # update priors\n",
    "        self.pi = self.Z.sum(axis=0) / self.N \n",
    "\n",
    "        # update mu using Laplace smoothing \n",
    "        self.mu = np.matmul(self.Z.T, self.X) \n",
    "        if self.alpha: \n",
    "            self.mu += self.alpha \n",
    "        self.mu /= (self.Z.sum(axis=0) + self.alpha * self.K)[:, np.newaxis]\n",
    "\n",
    "    def _log_likelihood(self, X): \n",
    "        \"\"\"Compute the log-likelihood of X under current parameters.\n",
    "\n",
    "        Input: \n",
    "        - X: data (batch_size, dim)\n",
    "\n",
    "        Output: \n",
    "        - log-likelihood of X: Sum_n log(Sum_k(pi_k * Ber(x_n | mu_k)))\n",
    "        \"\"\"\n",
    "\n",
    "        ll = 0\n",
    "        for x in X:\n",
    "            log_margin = np.log(self.pi)[:, np.newaxis] + np.sum(x * np.log(self.mu) + (1 - x) * np.log(1 - self.mu), axis=1, keepdims=True)\n",
    "            ll += logsumexp(log_margin)  \n",
    "        \n",
    "        return ll\n",
    "\n",
    "    def fit(self, X, max_iter=100, tol=1e-2):\n",
    "        \"\"\"Fit BMM to training data.\n",
    "        \"\"\"\n",
    "\n",
    "        self._init_em(X)\n",
    "        ll_hist = [self._log_likelihood(X)]\n",
    "        \n",
    "        self._e_step()\n",
    "        self._m_step()\n",
    "        ll_hist.append(self._log_likelihood(X))\n",
    "    \n",
    "        for i in tqdm(range(max_iter)):\n",
    "            if ll_hist[-1] - ll_hist[-2] > tol:\n",
    "                self._e_step()\n",
    "                self._m_step()\n",
    "                ll_hist.append(self._log_likelihood(X))\n",
    "            else: \n",
    "                print(\"Terminate at {}th iteration. Log-likelihood is {}\".format(i + 1, ll_hist[-1]))\n",
    "                plt.plot(ll_hist, marker='.')\n",
    "                plt.show()\n",
    "                break"
   ]
  },
  {
   "cell_type": "code",
   "execution_count": 139,
   "id": "715651f4",
   "metadata": {},
   "outputs": [
    {
     "data": {
      "text/plain": [
       "(10000, 784)"
      ]
     },
     "execution_count": 139,
     "metadata": {},
     "output_type": "execute_result"
    }
   ],
   "source": [
    "N, k, dim, alpha, max_iter, tol = 10_000, 10, 784, 1e-1, 100, 1e-2\n",
    "\n",
    "X = image_transform(X_train)[:N].reshape(-1, dim)\n",
    "X.shape"
   ]
  },
  {
   "cell_type": "code",
   "execution_count": 140,
   "id": "45d7d535",
   "metadata": {},
   "outputs": [
    {
     "name": "stderr",
     "output_type": "stream",
     "text": [
      " 41%|████████████████████████████████████████████████████                                                                           | 41/100 [02:01<03:01,  3.07s/it]"
     ]
    },
    {
     "name": "stdout",
     "output_type": "stream",
     "text": [
      "Terminate at 42th iteration. Log-likelihood is -1634721.330110609\n"
     ]
    },
    {
     "data": {
      "image/png": "[encoded data removed]",
      "text/plain": [
       "<Figure size 432x288 with 1 Axes>"
      ]
     },
     "metadata": {
      "needs_background": "light"
     },
     "output_type": "display_data"
    },
    {
     "name": "stderr",
     "output_type": "stream",
     "text": [
      " 41%|████████████████████████████████████████████████████                                                                           | 41/100 [02:02<02:55,  2.98s/it]\n"
     ]
    }
   ],
   "source": [
    "bmm = BMM(k=k, dim=dim, alpha=alpha)\n",
    "bmm.fit(X, max_iter=max_iter, tol=tol)"
   ]
  },
  {
   "cell_type": "code",
   "execution_count": 141,
   "id": "2b52b61f",
   "metadata": {},
   "outputs": [
    {
     "data": {
      "image/png": "[encoded data removed]",
      "text/plain": [
       "<Figure size 720x288 with 10 Axes>"
      ]
     },
     "metadata": {
      "needs_background": "light"
     },
     "output_type": "display_data"
    }
   ],
   "source": [
    "show_images(bmm.mu.reshape(-1, 28, 28), 2, 5, titles=np.around(bmm.pi, 3))"
   ]
  },
  {
   "cell_type": "code",
   "execution_count": 147,
   "id": "0fd1596d",
   "metadata": {},
   "outputs": [
    {
     "name": "stdout",
     "output_type": "stream",
     "text": [
      "(1500, 28, 28)\n",
      "(1500, 784)\n"
     ]
    },
    {
     "name": "stderr",
     "output_type": "stream",
     "text": [
      " 27%|██████████████████████████████████▎                                                                                            | 27/100 [00:05<00:13,  5.39it/s]"
     ]
    },
    {
     "name": "stdout",
     "output_type": "stream",
     "text": [
      "Terminate at 28th iteration. Log-likelihood is -275362.3455705018\n"
     ]
    },
    {
     "data": {
      "image/png": "[encoded data removed]",
      "text/plain": [
       "<Figure size 432x288 with 1 Axes>"
      ]
     },
     "metadata": {
      "needs_background": "light"
     },
     "output_type": "display_data"
    },
    {
     "name": "stderr",
     "output_type": "stream",
     "text": [
      " 27%|██████████████████████████████████▎                                                                                            | 27/100 [00:05<00:14,  5.21it/s]\n"
     ]
    },
    {
     "data": {
      "image/png": "[encoded data removed]",
      "text/plain": [
       "<Figure size 432x144 with 3 Axes>"
      ]
     },
     "metadata": {
      "needs_background": "light"
     },
     "output_type": "display_data"
    }
   ],
   "source": [
    "train_data = np.concatenate((cls[2][:500], cls[3][:500], cls[4][:500]), axis=0)\n",
    "np.random.shuffle(train_data)\n",
    "print(train_data.shape)\n",
    "\n",
    "train_data = train_data.reshape(-1, 784)\n",
    "print(train_data.shape)\n",
    "\n",
    "bmm = BMM(k=3, dim=784, alpha=1e-1)\n",
    "bmm.fit(train_data, max_iter=100, tol=1e-5)\n",
    "\n",
    "show_images(bmm.mu.reshape(-1, 28, 28), 1, 3, titles=np.around(bmm.pi, 3))"
   ]
  },
  {
   "cell_type": "code",
   "execution_count": 146,
   "id": "cd2d4597",
   "metadata": {},
   "outputs": [
    {
     "name": "stderr",
     "output_type": "stream",
     "text": [
      " 56%|███████████████████████████████████████████████████████████████████████                                                        | 56/100 [01:18<00:59,  1.36s/it]"
     ]
    },
    {
     "name": "stdout",
     "output_type": "stream",
     "text": [
      "Terminate at 57th iteration. Log-likelihood is -826479.3128232514\n"
     ]
    },
    {
     "data": {
      "image/png": "[encoded data removed]",
      "text/plain": [
       "<Figure size 432x288 with 1 Axes>"
      ]
     },
     "metadata": {
      "needs_background": "light"
     },
     "output_type": "display_data"
    },
    {
     "name": "stderr",
     "output_type": "stream",
     "text": [
      " 56%|███████████████████████████████████████████████████████████████████████                                                        | 56/100 [01:19<01:02,  1.41s/it]\n"
     ]
    },
    {
     "data": {
      "image/png": "[encoded data removed]",
      "text/plain": [
       "<Figure size 720x288 with 10 Axes>"
      ]
     },
     "metadata": {
      "needs_background": "light"
     },
     "output_type": "display_data"
    }
   ],
   "source": [
    "train_data = np.concatenate([cls[i][:500] for i in range(10)], axis=0)\n",
    "np.random.shuffle(train_data)\n",
    "train_data = train_data.reshape(-1, 784)\n",
    "train_data.shape\n",
    "\n",
    "bmm = BMM(k=10, dim=784, alpha=1e-1)\n",
    "bmm.fit(train_data, max_iter=100, tol=1e-2)\n",
    "\n",
    "show_images(bmm.mu.reshape(-1, 28, 28), 2, 5, titles=np.around(bmm.pi, 3))"
   ]
  },
  {
   "cell_type": "code",
   "execution_count": 144,
   "id": "8c58fca8",
   "metadata": {},
   "outputs": [
    {
     "name": "stdout",
     "output_type": "stream",
     "text": [
      "(1500, 784)\n"
     ]
    },
    {
     "name": "stderr",
     "output_type": "stream",
     "text": [
      " 54%|████████████████████████████████████████████████████████████████████▌                                                          | 54/100 [00:10<00:08,  5.25it/s]"
     ]
    },
    {
     "name": "stdout",
     "output_type": "stream",
     "text": [
      "Terminate at 55th iteration. Log-likelihood is -259180.47044420484\n"
     ]
    },
    {
     "data": {
      "image/png": "[encoded data removed]",
      "text/plain": [
       "<Figure size 432x288 with 1 Axes>"
      ]
     },
     "metadata": {
      "needs_background": "light"
     },
     "output_type": "display_data"
    },
    {
     "name": "stderr",
     "output_type": "stream",
     "text": [
      " 54%|████████████████████████████████████████████████████████████████████▌                                                          | 54/100 [00:10<00:09,  5.03it/s]\n"
     ]
    },
    {
     "data": {
      "image/png": "[encoded data removed]",
      "text/plain": [
       "<Figure size 432x144 with 3 Axes>"
      ]
     },
     "metadata": {
      "needs_background": "light"
     },
     "output_type": "display_data"
    }
   ],
   "source": [
    "train_data = np.concatenate((cls[5][:500], cls[9][:500], cls[6][:500]), axis=0)\n",
    "np.random.shuffle(train_data)\n",
    "\n",
    "train_data = train_data.reshape(-1, 784)\n",
    "print(train_data.shape)\n",
    "\n",
    "bmm = BMM(k=3, dim=784, alpha=1e-1)\n",
    "bmm.fit(train_data, max_iter=100, tol=1e-5)\n",
    "\n",
    "show_images(bmm.mu.reshape(-1, 28, 28), 1, 3, titles=np.around(bmm.pi, 3))"
   ]
  },
  {
   "cell_type": "code",
   "execution_count": 148,
   "id": "505b66aa",
   "metadata": {},
   "outputs": [
    {
     "name": "stdout",
     "output_type": "stream",
     "text": [
      "(1200, 784)\n"
     ]
    },
    {
     "name": "stderr",
     "output_type": "stream",
     "text": [
      " 33%|█████████████████████████████████████████▉                                                                                     | 33/100 [00:06<00:11,  5.75it/s]"
     ]
    },
    {
     "name": "stdout",
     "output_type": "stream",
     "text": [
      "Terminate at 34th iteration. Log-likelihood is -187280.42615592523\n"
     ]
    },
    {
     "data": {
      "image/png": "[encoded data removed]",
      "text/plain": [
       "<Figure size 432x288 with 1 Axes>"
      ]
     },
     "metadata": {
      "needs_background": "light"
     },
     "output_type": "display_data"
    },
    {
     "name": "stderr",
     "output_type": "stream",
     "text": [
      " 33%|█████████████████████████████████████████▉                                                                                     | 33/100 [00:06<00:12,  5.40it/s]\n"
     ]
    },
    {
     "data": {
      "image/png": "[encoded data removed]",
      "text/plain": [
       "<Figure size 576x144 with 4 Axes>"
      ]
     },
     "metadata": {
      "needs_background": "light"
     },
     "output_type": "display_data"
    }
   ],
   "source": [
    "train_data = np.concatenate((cls[3][:300], cls[4][:300], cls[1][:300], cls[8][:300]), axis=0)\n",
    "np.random.shuffle(train_data)\n",
    "\n",
    "train_data = train_data.reshape(-1, 784)\n",
    "print(train_data.shape)\n",
    "\n",
    "bmm = BMM(k=4, dim=784, alpha=1e-1)\n",
    "bmm.fit(train_data, max_iter=100, tol=1e-5)\n",
    "\n",
    "show_images(bmm.mu.reshape(-1, 28, 28), 1, 4, titles=np.around(bmm.pi, 3))"
   ]
  },
  {
   "cell_type": "code",
   "execution_count": null,
   "id": "7a7c5db4",
   "metadata": {},
   "outputs": [],
   "source": []
  }
 ],
 "metadata": {
  "kernelspec": {
   "display_name": "Python 3 (ipykernel)",
   "language": "python",
   "name": "python3"
  },
  "language_info": {
   "codemirror_mode": {
    "name": "ipython",
    "version": 3
   },
   "file_extension": ".py",
   "mimetype": "text/x-python",
   "name": "python",
   "nbconvert_exporter": "python",
   "pygments_lexer": "ipython3",
   "version": "3.8.3"
  }
 },
 "nbformat": 4,
 "nbformat_minor": 5
}
